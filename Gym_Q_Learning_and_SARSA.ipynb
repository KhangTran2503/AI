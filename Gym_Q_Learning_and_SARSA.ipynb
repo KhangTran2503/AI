{
  "nbformat": 4,
  "nbformat_minor": 0,
  "metadata": {
    "colab": {
      "name": "Gym Q-Learning and SARSA.ipynb",
      "provenance": [],
      "collapsed_sections": [],
      "include_colab_link": true
    },
    "kernelspec": {
      "name": "python3",
      "display_name": "Python 3"
    },
    "accelerator": "TPU"
  },
  "cells": [
    {
      "cell_type": "markdown",
      "metadata": {
        "id": "view-in-github",
        "colab_type": "text"
      },
      "source": [
        "<a href=\"https://colab.research.google.com/github/KhangTran2503/CS106.K21.KHTN/blob/master/Gym_Q_Learning_and_SARSA.ipynb\" target=\"_parent\"><img src=\"https://colab.research.google.com/assets/colab-badge.svg\" alt=\"Open In Colab\"/></a>"
      ]
    },
    {
      "cell_type": "markdown",
      "metadata": {
        "id": "zdMbKVhkOrvO",
        "colab_type": "text"
      },
      "source": [
        "#**Q-Learning & SARSA**"
      ]
    },
    {
      "cell_type": "code",
      "metadata": {
        "id": "3o7ysu2ew77y",
        "colab_type": "code",
        "colab": {}
      },
      "source": [
        "import numpy as np\n",
        "import gym\n",
        "env = gym.make('FrozenLake-v0')"
      ],
      "execution_count": 2,
      "outputs": []
    },
    {
      "cell_type": "code",
      "metadata": {
        "id": "qqu7BiNuAc81",
        "colab_type": "code",
        "colab": {}
      },
      "source": [
        "def q_learning(env, num_training_episodes=20001, validation_interval=1000, alpha=0.01, gamma=0.9, epsilon_start=0.1, epsilon_min=0.01, epsilon_decay_rate=0.00005, tracking=False):\n",
        "    # Initialize Q(s,a) table\n",
        "    q_values = np.zeros((env.observation_space.n, env.action_space.n))\n",
        "\n",
        "    history_rewards = []\n",
        "\n",
        "    # Train the agent by playing multiple episodes and gain experience\n",
        "    for episode in range(num_training_episodes):\n",
        "        # Reset the environment and get the starting state\n",
        "        state = env.reset()\n",
        "        done = False\n",
        "        total_reward = 0\n",
        "\n",
        "        # If epsilon_decay_rate is 0.0, the value of epsilon is fixed at its starting value\n",
        "        if epsilon_decay_rate == 0.0:\n",
        "            epsilon = epsilon_start\n",
        "        else:\n",
        "            epsilon = epsilon_min + (epsilon_start - epsilon_min)*np.exp(-epsilon_decay_rate*episode)\n",
        "        \n",
        "        # Play one episode\n",
        "        while not done:\n",
        "            # Choose an action following an epsilon-greedy policy\n",
        "            if np.random.uniform(0,1) < epsilon:\n",
        "                action = np.random.randint(env.action_space.n)\n",
        "            else:\n",
        "                action = np.argmax(q_values[state])\n",
        "            \n",
        "            # Take the chosen action and observe the experience\n",
        "            next_state, reward, done, info = env.step(action)\n",
        "\n",
        "            # Use the observation to update Q(s,a)\n",
        "            q_values[state,action] = (1-alpha)*q_values[state,action] + alpha*(reward + gamma * np.max(q_values[next_state]))\n",
        "\n",
        "            total_reward += reward\n",
        "\n",
        "            state = next_state\n",
        "\n",
        "        # After every validation_interval episode, we evaluate the policy obtained so far\n",
        "        # by using it to play 1000 games and computing the average reward.\n",
        "        if (episode % validation_interval) == 0:\n",
        "            avg_reward = play_multiple_times(env, q_values, num_validation_episodes=1000)\n",
        "            history_rewards.append(avg_reward)\n",
        "            if tracking:\n",
        "                print('Episode: {} - epsilon: {} - average reward: {}'.format(episode, epsilon, avg_reward))\n",
        "\n",
        "    return q_values, history_rewards"
      ],
      "execution_count": 3,
      "outputs": []
    },
    {
      "cell_type": "code",
      "metadata": {
        "id": "CaIgbtH2-V7I",
        "colab_type": "code",
        "colab": {}
      },
      "source": [
        "def sarsa(env, num_training_episodes=20001, validation_interval=1000, alpha=0.01, gamma=0.9, epsilon_start=0.1, epsilon_min=0.01, epsilon_decay_rate=0.00005, tracking=False):\n",
        "    # Initialize Q(s,a) table\n",
        "    q_values = np.zeros((env.observation_space.n, env.action_space.n))\n",
        "\n",
        "    history_rewards = []\n",
        "\n",
        "    # Train the agent by playing multiple episodes and gain experience\n",
        "    for episode in range(num_training_episodes):\n",
        "        # If epsilon_decay_rate is 0.0, the value of epsilon is fixed at its starting value\n",
        "        if epsilon_decay_rate == 0.0:\n",
        "            epsilon = epsilon_start\n",
        "        else:\n",
        "            epsilon = epsilon_min + (epsilon_start - epsilon_min)*np.exp(-epsilon_decay_rate*episode)\n",
        "        \n",
        "        # Reset the environment and get the starting state\n",
        "        state = env.reset()\n",
        "        action = get_action(state, env, q_values, epsilon)\n",
        "        done = False\n",
        "        total_reward = 0\n",
        "\n",
        "        # Play one episode\n",
        "        while not done:\n",
        "            # Take the chosen action and observe the experience\n",
        "            next_state, reward, done, info = env.step(action)\n",
        "            \n",
        "            # Choose an action following an epsilon-greedy policy\n",
        "            next_action = get_action(next_state, env, q_values, epsilon)\n",
        "\n",
        "            # Use the observation to update Q(s,a)\n",
        "            if done:\n",
        "                q_values[state][action] += alpha * (reward  - q_values[state][action])\n",
        "            else:\n",
        "                q_values[state][action] += alpha * ( reward + (gamma * q_values[next_state][next_action]) - q_values[state][action])\n",
        "\n",
        "            total_reward += reward\n",
        "\n",
        "            state = next_state\n",
        "            action = next_action\n",
        "        # After every validation_interval episode, we evaluate the policy obtained so far\n",
        "        # by using it to play 1000 games and computing the average reward.\n",
        "        if (episode % validation_interval) == 0:\n",
        "            avg_reward = play_multiple_times(env, q_values, num_validation_episodes=1000)\n",
        "            history_rewards.append(avg_reward)\n",
        "            if tracking:\n",
        "                print('Episode: {} - epsilon: {} - average reward: {}'.format(episode, epsilon, avg_reward))\n",
        "\n",
        "    return q_values, history_rewards"
      ],
      "execution_count": 4,
      "outputs": []
    },
    {
      "cell_type": "code",
      "metadata": {
        "id": "md3Yvs1a_CLs",
        "colab_type": "code",
        "colab": {}
      },
      "source": [
        "def get_action(state, env, q_values, epsilon):\n",
        "  if np.random.uniform(0,1) < epsilon:\n",
        "    return np.random.randint(env.action_space.n)\n",
        "  else:\n",
        "    return np.argmax(q_values[state])"
      ],
      "execution_count": 5,
      "outputs": []
    },
    {
      "cell_type": "code",
      "metadata": {
        "id": "LLfY8BWaz7z6",
        "colab_type": "code",
        "colab": {}
      },
      "source": [
        "def play_multiple_times(env, q_values, num_validation_episodes=1000):\n",
        "    \"\"\"\n",
        "    Check the quality of the policy encoded by the Q-value table.\n",
        "    Use that policy to play multiple games, and get the average reward.\n",
        "    \"\"\"\n",
        "    all_rewards = []\n",
        "\n",
        "    for episode in range(num_validation_episodes):\n",
        "        state = env.reset()\n",
        "        done = False\n",
        "        episode_reward = 0\n",
        "\n",
        "        while not done:\n",
        "            action = np.argmax(q_values[state])\n",
        "            next_state, reward, done, info = env.step(action)\n",
        "\n",
        "            episode_reward += reward\n",
        "            state = next_state\n",
        "            if done:\n",
        "                all_rewards.append(episode_reward)\n",
        "    \n",
        "    return np.mean(all_rewards)"
      ],
      "execution_count": 6,
      "outputs": []
    },
    {
      "cell_type": "code",
      "metadata": {
        "id": "6Vgtno6WCbE4",
        "colab_type": "code",
        "colab": {
          "base_uri": "https://localhost:8080/",
          "height": 421
        },
        "outputId": "d68c501a-02ae-4689-b5a0-520aef578200"
      },
      "source": [
        "#It does not guarantee to find the best policy with just one run\n",
        "print('Testing Q-Learning...')\n",
        "q_values, history_rewards = q_learning(env, num_training_episodes=20001, \n",
        "           validation_interval=1000, alpha=0.05, gamma=0.95, \n",
        "           epsilon_start=0.15, epsilon_min=0.01, epsilon_decay_rate=0.0,\n",
        "           tracking=True)"
      ],
      "execution_count": 6,
      "outputs": [
        {
          "output_type": "stream",
          "text": [
            "Testing Q-Learning...\n",
            "Episode: 0 - epsilon: 0.15 - average reward: 0.0\n",
            "Episode: 1000 - epsilon: 0.15 - average reward: 0.0\n",
            "Episode: 2000 - epsilon: 0.15 - average reward: 0.0\n",
            "Episode: 3000 - epsilon: 0.15 - average reward: 0.257\n",
            "Episode: 4000 - epsilon: 0.15 - average reward: 0.561\n",
            "Episode: 5000 - epsilon: 0.15 - average reward: 0.14\n",
            "Episode: 6000 - epsilon: 0.15 - average reward: 0.745\n",
            "Episode: 7000 - epsilon: 0.15 - average reward: 0.615\n",
            "Episode: 8000 - epsilon: 0.15 - average reward: 0.708\n",
            "Episode: 9000 - epsilon: 0.15 - average reward: 0.708\n",
            "Episode: 10000 - epsilon: 0.15 - average reward: 0.649\n",
            "Episode: 11000 - epsilon: 0.15 - average reward: 0.624\n",
            "Episode: 12000 - epsilon: 0.15 - average reward: 0.716\n",
            "Episode: 13000 - epsilon: 0.15 - average reward: 0.604\n",
            "Episode: 14000 - epsilon: 0.15 - average reward: 0.725\n",
            "Episode: 15000 - epsilon: 0.15 - average reward: 0.634\n",
            "Episode: 16000 - epsilon: 0.15 - average reward: 0.634\n",
            "Episode: 17000 - epsilon: 0.15 - average reward: 0.635\n",
            "Episode: 18000 - epsilon: 0.15 - average reward: 0.651\n",
            "Episode: 19000 - epsilon: 0.15 - average reward: 0.729\n",
            "Episode: 20000 - epsilon: 0.15 - average reward: 0.721\n"
          ],
          "name": "stdout"
        }
      ]
    },
    {
      "cell_type": "code",
      "metadata": {
        "id": "hUVIy6t9XLhS",
        "colab_type": "code",
        "colab": {
          "base_uri": "https://localhost:8080/",
          "height": 421
        },
        "outputId": "6fd50cec-1d25-4be4-ed0b-bfbb77c335b3"
      },
      "source": [
        "print('Testing Sarsa...')\n",
        "q_values, history_rewards = sarsa(env, num_training_episodes=20001, \n",
        "           validation_interval=1000, alpha=0.1, gamma=0.95, \n",
        "           epsilon_start=0.15, epsilon_min=0.01, epsilon_decay_rate=0.0,\n",
        "           tracking=True)"
      ],
      "execution_count": 7,
      "outputs": [
        {
          "output_type": "stream",
          "text": [
            "Testing Sarsa...\n",
            "Episode: 0 - epsilon: 0.15 - average reward: 0.0\n",
            "Episode: 1000 - epsilon: 0.15 - average reward: 0.0\n",
            "Episode: 2000 - epsilon: 0.15 - average reward: 0.0\n",
            "Episode: 3000 - epsilon: 0.15 - average reward: 0.0\n",
            "Episode: 4000 - epsilon: 0.15 - average reward: 0.0\n",
            "Episode: 5000 - epsilon: 0.15 - average reward: 0.0\n",
            "Episode: 6000 - epsilon: 0.15 - average reward: 0.0\n",
            "Episode: 7000 - epsilon: 0.15 - average reward: 0.0\n",
            "Episode: 8000 - epsilon: 0.15 - average reward: 0.0\n",
            "Episode: 9000 - epsilon: 0.15 - average reward: 0.615\n",
            "Episode: 10000 - epsilon: 0.15 - average reward: 0.664\n",
            "Episode: 11000 - epsilon: 0.15 - average reward: 0.744\n",
            "Episode: 12000 - epsilon: 0.15 - average reward: 0.612\n",
            "Episode: 13000 - epsilon: 0.15 - average reward: 0.658\n",
            "Episode: 14000 - epsilon: 0.15 - average reward: 0.211\n",
            "Episode: 15000 - epsilon: 0.15 - average reward: 0.155\n",
            "Episode: 16000 - epsilon: 0.15 - average reward: 0.148\n",
            "Episode: 17000 - epsilon: 0.15 - average reward: 0.259\n",
            "Episode: 18000 - epsilon: 0.15 - average reward: 0.62\n",
            "Episode: 19000 - epsilon: 0.15 - average reward: 0.745\n",
            "Episode: 20000 - epsilon: 0.15 - average reward: 0.601\n"
          ],
          "name": "stdout"
        }
      ]
    },
    {
      "cell_type": "code",
      "metadata": {
        "id": "ZOUzMd9f2BhB",
        "colab_type": "code",
        "colab": {}
      },
      "source": [
        "def perform_q_learning_multiple_times(env, num_times=100, num_training_episodes=20001, validation_interval=1000, alpha=0.01, gamma=0.95, epsilon_start=0.1, epsilon_min=0.01, epsilon_decay_rate=0.0):\n",
        "    \"\"\"\n",
        "    If we run an algorithm with some hyperparameter settings only once, \n",
        "    its success or failure can be merely due to chance.\n",
        "    To verify more accurately the performance of an algorithm and its certain hyperparameter settings,\n",
        "    we need to run the algorithm with such hyperparameter settings multiple times.\n",
        "    \"\"\"\n",
        "    all_history = []\n",
        "    print('-----------------')\n",
        "    print('Running Q-Learning...')\n",
        "    for i in range(num_times):\n",
        "        print('Run {}'.format(i))\n",
        "        q_values, history_reward = q_learning(env, num_training_episodes, validation_interval, alpha, gamma, epsilon_start, epsilon_min, epsilon_decay_rate, tracking=False)\n",
        "        all_history.append(history_reward)\n",
        "    \n",
        "    mean_reward = np.array(all_history)\n",
        "    mean_reward = np.mean(mean_reward, axis=0)\n",
        "    mean_reward = np.vstack((np.arange(num_training_episodes, step=validation_interval),mean_reward))\n",
        "    return mean_reward"
      ],
      "execution_count": 7,
      "outputs": []
    },
    {
      "cell_type": "code",
      "metadata": {
        "id": "_gq2kJ0kJ1wG",
        "colab_type": "code",
        "colab": {}
      },
      "source": [
        "def perform_sarsa_multiple_times(env, num_times=100, num_training_episodes=20001, validation_interval=1000, alpha=0.01, gamma=0.95, epsilon_start=0.1, epsilon_min=0.01, epsilon_decay_rate=0.0):\n",
        "    \"\"\"\n",
        "    If we run an algorithm with some hyperparameter settings only once, \n",
        "    its success or failure can be merely due to chance.\n",
        "    To verify more accurately the performance of an algorithm and its certain hyperparameter settings,\n",
        "    we need to run the algorithm with such hyperparameter settings multiple times.\n",
        "    \"\"\"\n",
        "    all_history = []\n",
        "    print('-----------------')\n",
        "    print('Running sarsa...')\n",
        "    for i in range(num_times):\n",
        "        print('Run {}'.format(i))\n",
        "        q_values, history_reward = sarsa(env, num_training_episodes, validation_interval, alpha, gamma, epsilon_start, epsilon_min, epsilon_decay_rate, tracking=False)\n",
        "        all_history.append(history_reward)\n",
        "    \n",
        "    mean_reward = np.array(all_history)\n",
        "    mean_reward = np.mean(mean_reward, axis=0)\n",
        "    mean_reward = np.vstack((np.arange(num_training_episodes, step=validation_interval),mean_reward))\n",
        "    return mean_reward"
      ],
      "execution_count": 8,
      "outputs": []
    },
    {
      "cell_type": "markdown",
      "metadata": {
        "id": "z7mVej4t-Ufk",
        "colab_type": "text"
      },
      "source": [
        "Chạy **20000 episodes 20 times** cho thuật toán Q-Learning & SARSA.\n",
        "\n"
      ]
    },
    {
      "cell_type": "code",
      "metadata": {
        "id": "KIlAXUzXKJNC",
        "colab_type": "code",
        "colab": {
          "base_uri": "https://localhost:8080/",
          "height": 825
        },
        "outputId": "9716e965-cc5d-46b8-cf4d-28fb6d84379d"
      },
      "source": [
        "# Let's try all algorithms with epsilon-greedy having a small fixed epsilon value\n",
        "mean_reward_small_epsilon_q_learning = perform_q_learning_multiple_times(env, num_times=20,\n",
        "                                                  num_training_episodes=20001,\n",
        "                                                  validation_interval=1000,\n",
        "                                                  alpha=0.05,\n",
        "                                                  gamma=0.95,\n",
        "                                                  epsilon_start=0.15,\n",
        "                                                  epsilon_min=0.01,\n",
        "                                                  epsilon_decay_rate=0.0\n",
        "                                                  )\n",
        "\n",
        "mean_reward_small_epsilon_sarsa = perform_sarsa_multiple_times(env, num_times=20,\n",
        "                                                  num_training_episodes=20001,\n",
        "                                                  validation_interval=1000,\n",
        "                                                  alpha=0.05,\n",
        "                                                  gamma=0.95,\n",
        "                                                  epsilon_start=0.15,\n",
        "                                                  epsilon_min=0.01,\n",
        "                                                  epsilon_decay_rate=0.0\n",
        "                                                  )\n",
        "\n"
      ],
      "execution_count": 10,
      "outputs": [
        {
          "output_type": "stream",
          "text": [
            "-----------------\n",
            "Running Q-Learning...\n",
            "Run 0\n",
            "Run 1\n",
            "Run 2\n",
            "Run 3\n",
            "Run 4\n",
            "Run 5\n",
            "Run 6\n",
            "Run 7\n",
            "Run 8\n",
            "Run 9\n",
            "Run 10\n",
            "Run 11\n",
            "Run 12\n",
            "Run 13\n",
            "Run 14\n",
            "Run 15\n",
            "Run 16\n",
            "Run 17\n",
            "Run 18\n",
            "Run 19\n",
            "-----------------\n",
            "Running sarsa...\n",
            "Run 0\n",
            "Run 1\n",
            "Run 2\n",
            "Run 3\n",
            "Run 4\n",
            "Run 5\n",
            "Run 6\n",
            "Run 7\n",
            "Run 8\n",
            "Run 9\n",
            "Run 10\n",
            "Run 11\n",
            "Run 12\n",
            "Run 13\n",
            "Run 14\n",
            "Run 15\n",
            "Run 16\n",
            "Run 17\n",
            "Run 18\n",
            "Run 19\n"
          ],
          "name": "stdout"
        }
      ]
    },
    {
      "cell_type": "code",
      "metadata": {
        "id": "hDhMmYVwKlj7",
        "colab_type": "code",
        "colab": {
          "base_uri": "https://localhost:8080/",
          "height": 825
        },
        "outputId": "f9e6e78f-d5a6-4827-face-e867590e9e85"
      },
      "source": [
        "# Let's try all algorithms with epsilon-greedy having a small fixed epsilon value\n",
        "mean_reward_epsilon_decay_q_learning = perform_q_learning_multiple_times(env, num_times=20,\n",
        "                                                  num_training_episodes=20001,\n",
        "                                                  validation_interval=1000,\n",
        "                                                  alpha=0.05,\n",
        "                                                  gamma=0.95,\n",
        "                                                  epsilon_start=0.7,\n",
        "                                                  epsilon_min=0.01,\n",
        "                                                  epsilon_decay_rate=0.00015\n",
        "                                                  )\n",
        "\n",
        "mean_reward_epsilon_decay_sarsa = perform_sarsa_multiple_times(env, num_times=20,\n",
        "                                                  num_training_episodes=20001,\n",
        "                                                  validation_interval=1000,\n",
        "                                                  alpha=0.05,\n",
        "                                                  gamma=0.95,\n",
        "                                                  epsilon_start=0.7,\n",
        "                                                  epsilon_min=0.01,\n",
        "                                                  epsilon_decay_rate=0.00015\n",
        "                                                  )\n",
        "\n"
      ],
      "execution_count": 11,
      "outputs": [
        {
          "output_type": "stream",
          "text": [
            "-----------------\n",
            "Running Q-Learning...\n",
            "Run 0\n",
            "Run 1\n",
            "Run 2\n",
            "Run 3\n",
            "Run 4\n",
            "Run 5\n",
            "Run 6\n",
            "Run 7\n",
            "Run 8\n",
            "Run 9\n",
            "Run 10\n",
            "Run 11\n",
            "Run 12\n",
            "Run 13\n",
            "Run 14\n",
            "Run 15\n",
            "Run 16\n",
            "Run 17\n",
            "Run 18\n",
            "Run 19\n",
            "-----------------\n",
            "Running sarsa...\n",
            "Run 0\n",
            "Run 1\n",
            "Run 2\n",
            "Run 3\n",
            "Run 4\n",
            "Run 5\n",
            "Run 6\n",
            "Run 7\n",
            "Run 8\n",
            "Run 9\n",
            "Run 10\n",
            "Run 11\n",
            "Run 12\n",
            "Run 13\n",
            "Run 14\n",
            "Run 15\n",
            "Run 16\n",
            "Run 17\n",
            "Run 18\n",
            "Run 19\n"
          ],
          "name": "stdout"
        }
      ]
    },
    {
      "cell_type": "code",
      "metadata": {
        "id": "ZEp7V2aBrsNS",
        "colab_type": "code",
        "colab": {}
      },
      "source": [
        "import matplotlib.pyplot as plt\n",
        "%matplotlib inline"
      ],
      "execution_count": 11,
      "outputs": []
    },
    {
      "cell_type": "code",
      "metadata": {
        "id": "1pnibky6xh_i",
        "colab_type": "code",
        "colab": {
          "base_uri": "https://localhost:8080/",
          "height": 313
        },
        "outputId": "81d82ffc-ae37-46a1-8c67-9b9d774ba25d"
      },
      "source": [
        "plt.title('RL algorithm')\n",
        "plt.xlabel('Training Episode')\n",
        "plt.ylabel('Success Rate')\n",
        "plt.ylim([-0.05,1])\n",
        "plt.plot(mean_reward_small_epsilon_q_learning[0],mean_reward_small_epsilon_q_learning[1], 'b-', label='Q-Learning')\n",
        "plt.plot(mean_reward_small_epsilon_sarsa[0], mean_reward_small_epsilon_sarsa[1], 'r-', label='Sarsa')\n",
        "plt.legend()"
      ],
      "execution_count": 17,
      "outputs": [
        {
          "output_type": "execute_result",
          "data": {
            "text/plain": [
              "<matplotlib.legend.Legend at 0x7f5ce509b5c0>"
            ]
          },
          "metadata": {
            "tags": []
          },
          "execution_count": 17
        },
        {
          "output_type": "display_data",
          "data": {
            "image/png": "[encoded data removed]",
            "text/plain": [
              "<Figure size 432x288 with 1 Axes>"
            ]
          },
          "metadata": {
            "tags": [],
            "needs_background": "light"
          }
        }
      ]
    },
    {
      "cell_type": "code",
      "metadata": {
        "id": "MYOl2If4MAy4",
        "colab_type": "code",
        "colab": {
          "base_uri": "https://localhost:8080/",
          "height": 313
        },
        "outputId": "08332145-d2e0-4f46-d03f-5884403fcf06"
      },
      "source": [
        "plt.title('RL algorithm with epsilon decay overtime')\n",
        "plt.xlabel('Training Episode')\n",
        "plt.ylabel('Success Rate')\n",
        "plt.ylim([-0.05,1])\n",
        "plt.plot(mean_reward_epsilon_decay_q_learning[0],mean_reward_epsilon_decay_q_learning[1], 'b-', label='Q-Learning')\n",
        "plt.plot(mean_reward_epsilon_decay_sarsa[0], mean_reward_epsilon_decay_sarsa[1], 'r-', label='Sarsa')\n",
        "plt.legend()"
      ],
      "execution_count": 18,
      "outputs": [
        {
          "output_type": "execute_result",
          "data": {
            "text/plain": [
              "<matplotlib.legend.Legend at 0x7f5ce5015080>"
            ]
          },
          "metadata": {
            "tags": []
          },
          "execution_count": 18
        },
        {
          "output_type": "display_data",
          "data": {
            "image/png": "[encoded data removed]",
            "text/plain": [
              "<Figure size 432x288 with 1 Axes>"
            ]
          },
          "metadata": {
            "tags": [],
            "needs_background": "light"
          }
        }
      ]
    },
    {
      "cell_type": "markdown",
      "metadata": {
        "id": "LXVbqNp9_BvK",
        "colab_type": "text"
      },
      "source": [
        "Trong decayed epsilon, **Q-Learning** có vẻ chạy tốt hơn các thuật toán còn lại, nhưng sự chênh lệch là không nhiều lắm.\n"
      ]
    },
    {
      "cell_type": "markdown",
      "metadata": {
        "id": "bD2-PY6-ABy9",
        "colab_type": "text"
      },
      "source": [
        "###**Hyperparameters:**\n",
        "> **num_times** = 20\n",
        ">\n",
        "> **num_training_episodes** = 20001\n",
        ">\n",
        "> **validation_interval** = 1000\n",
        ">\n",
        "> **alpha** = 0.06\n",
        ">                                                  \n",
        "> **gamma** = 0.955\n",
        ">\n",
        "> **epsilon_start** = 0.7\n",
        ">\n",
        "> **epsilon_min** = 0.01\n",
        ">\n",
        "> **epsilon_decay_rate** = 0.00015\n",
        "                                                  "
      ]
    },
    {
      "cell_type": "markdown",
      "metadata": {
        "id": "GVwVb1bpeGmL",
        "colab_type": "text"
      },
      "source": [
        ""
      ]
    },
    {
      "cell_type": "code",
      "metadata": {
        "id": "-NwC8RLUV2hm",
        "colab_type": "code",
        "colab": {
          "base_uri": "https://localhost:8080/",
          "height": 825
        },
        "outputId": "0ebf87c7-deea-48bc-f997-aa5d7f741d9c"
      },
      "source": [
        "mean_reward_custom_q_learning = perform_q_learning_multiple_times(env, num_times=20,\n",
        "                                                  num_training_episodes=20001,\n",
        "                                                  validation_interval=1000,\n",
        "                                                  alpha=0.06,\n",
        "                                                  gamma=0.955,\n",
        "                                                  epsilon_start=0.7,\n",
        "                                                  epsilon_min=0.01,\n",
        "                                                  epsilon_decay_rate=0.00015\n",
        "                                                  )\n",
        "\n",
        "mean_reward_custom_sarsa = perform_sarsa_multiple_times(env, num_times=20,\n",
        "                                                  num_training_episodes=20001,\n",
        "                                                  validation_interval=1000,\n",
        "                                                  alpha=0.06,\n",
        "                                                  gamma=0.955,\n",
        "                                                  epsilon_start=0.7,\n",
        "                                                  epsilon_min=0.01,\n",
        "                                                  epsilon_decay_rate=0.00015\n",
        "                                                  )\n"
      ],
      "execution_count": 15,
      "outputs": [
        {
          "output_type": "stream",
          "text": [
            "-----------------\n",
            "Running Q-Learning...\n",
            "Run 0\n",
            "Run 1\n",
            "Run 2\n",
            "Run 3\n",
            "Run 4\n",
            "Run 5\n",
            "Run 6\n",
            "Run 7\n",
            "Run 8\n",
            "Run 9\n",
            "Run 10\n",
            "Run 11\n",
            "Run 12\n",
            "Run 13\n",
            "Run 14\n",
            "Run 15\n",
            "Run 16\n",
            "Run 17\n",
            "Run 18\n",
            "Run 19\n",
            "-----------------\n",
            "Running sarsa...\n",
            "Run 0\n",
            "Run 1\n",
            "Run 2\n",
            "Run 3\n",
            "Run 4\n",
            "Run 5\n",
            "Run 6\n",
            "Run 7\n",
            "Run 8\n",
            "Run 9\n",
            "Run 10\n",
            "Run 11\n",
            "Run 12\n",
            "Run 13\n",
            "Run 14\n",
            "Run 15\n",
            "Run 16\n",
            "Run 17\n",
            "Run 18\n",
            "Run 19\n"
          ],
          "name": "stdout"
        }
      ]
    },
    {
      "cell_type": "code",
      "metadata": {
        "id": "dLy722sHWboq",
        "colab_type": "code",
        "colab": {
          "base_uri": "https://localhost:8080/",
          "height": 313
        },
        "outputId": "c28c3f83-1c99-466a-a08d-a826bbebf2b8"
      },
      "source": [
        "# It seems that Q-Learning has the best learning curve\n",
        "plt.title('RL algorithm with custom parameters')\n",
        "plt.xlabel('Training Episode')\n",
        "plt.ylabel('Success Rate')\n",
        "plt.ylim([-0.05,1])\n",
        "plt.plot(mean_reward_custom_q_learning[0],mean_reward_custom_q_learning[1], 'b-', label='Q-Learning')\n",
        "plt.plot(mean_reward_custom_sarsa[0], mean_reward_custom_sarsa[1], 'r-', label='Sarsa')\n",
        "plt.legend()"
      ],
      "execution_count": 17,
      "outputs": [
        {
          "output_type": "execute_result",
          "data": {
            "text/plain": [
              "<matplotlib.legend.Legend at 0x7f1b71870710>"
            ]
          },
          "metadata": {
            "tags": []
          },
          "execution_count": 17
        },
        {
          "output_type": "display_data",
          "data": {
            "image/png": "[encoded data removed]",
            "text/plain": [
              "<Figure size 432x288 with 1 Axes>"
            ]
          },
          "metadata": {
            "tags": [],
            "needs_background": "light"
          }
        }
      ]
    },
    {
      "cell_type": "markdown",
      "metadata": {
        "id": "nVYo2yLeLe3u",
        "colab_type": "text"
      },
      "source": [
        "Sau khi thay đổi parameter thì **SARSA** có vẻ hội tụ nhanh hơn so với ban đầu. Nhưng trong bài toán này **Q-Learning** vẫn là lựa chọn tốt nhất."
      ]
    }
  ]
}