{
  "nbformat": 4,
  "nbformat_minor": 0,
  "metadata": {
    "colab": {
      "name": "csp_test.ipynb",
      "provenance": [],
      "collapsed_sections": [],
      "include_colab_link": true
    },
    "kernelspec": {
      "name": "python3",
      "display_name": "Python 3"
    }
  },
  "cells": [
    {
      "cell_type": "markdown",
      "metadata": {
        "id": "view-in-github",
        "colab_type": "text"
      },
      "source": [
        "<a href=\"https://colab.research.google.com/github/KhangTran2503/AI/blob/master/csp_test.ipynb\" target=\"_parent\"><img src=\"https://colab.research.google.com/assets/colab-badge.svg\" alt=\"Open In Colab\"/></a>"
      ]
    },
    {
      "cell_type": "markdown",
      "metadata": {
        "id": "S_ue1AH34lMw",
        "colab_type": "text"
      },
      "source": [
        "#**Knapsack Problems:** \n",
        "\n",
        "<img src=\"https://drive.google.com/uc?id=11R_h4o_O-d5mTvCq19NWLD5VU1swzd1M\" class=\"center\" width=500 />"
      ]
    },
    {
      "cell_type": "markdown",
      "metadata": {
        "id": "9BgEnosK7jaO",
        "colab_type": "text"
      },
      "source": [
        "#**Modeling:** \n",
        "\n",
        "##**Abstract:**\n",
        "> + Given a set of items $I = \\{1,...n\\}$, each items $i \\in I$ characterized by\n",
        ">   - its weight $w_{i}$\n",
        ">   - its value  $v_{i}$\n",
        "> \n",
        ">and \n",
        ">   - a capacity $W$ for knapsack.\n",
        "\n",
        "##**Claim:** \n",
        ">+ Find the subset of items in $I$\n",
        ">   - that has maximun value\n",
        ">   - does not exceed the capacity $W$ of knapsack\n",
        "\n",
        "##**Object Function:**\n",
        "> $ \\text{maximize } \\sum_{i = 1}^{n}x_{i}v_{i} $\n",
        ">\n",
        "> $ \\text{subject to }  \\sum_{i = 1}^{n}x_{i}w_{i} \\le W \\text{ and } x_{i} \\in \\{0,1\\} $.\n",
        ">\n",
        ">\n",
        "> where $x_{i}$ is a binary variable equalling 1 if item i should be included in the knapsack, and 0 otherwise.\n",
        "\n"
      ]
    },
    {
      "cell_type": "markdown",
      "metadata": {
        "id": "x0JtjxsSORHJ",
        "colab_type": "text"
      },
      "source": [
        "#**Google OR-Tools:**\n",
        "\n",
        "###**Bin packing:** The goal of packing problems is to find the best way to pack a set of items of given sizes into containers with fixed capacities.\n"
      ]
    },
    {
      "cell_type": "markdown",
      "metadata": {
        "id": "0vd2lc6kP6Wd",
        "colab_type": "text"
      },
      "source": [
        "##**Solve a knapsack problem using OR-Tools:**"
      ]
    },
    {
      "cell_type": "markdown",
      "metadata": {
        "id": "THgY0RwOQBr-",
        "colab_type": "text"
      },
      "source": [
        "**Install OR-Tools:**"
      ]
    },
    {
      "cell_type": "code",
      "metadata": {
        "id": "62SsItj5eL05",
        "colab_type": "code",
        "outputId": "bae94471-e8c5-43e1-b83d-1bd1188353fe",
        "colab": {
          "base_uri": "https://localhost:8080/",
          "height": 85
        }
      },
      "source": [
        "#install ortools\n",
        "!pip install ortools"
      ],
      "execution_count": 0,
      "outputs": [
        {
          "output_type": "stream",
          "text": [
            "Requirement already satisfied: ortools in /usr/local/lib/python3.6/dist-packages (7.6.7691)\n",
            "Requirement already satisfied: protobuf>=3.11.2 in /usr/local/lib/python3.6/dist-packages (from ortools) (3.12.2)\n",
            "Requirement already satisfied: six>=1.10 in /usr/local/lib/python3.6/dist-packages (from ortools) (1.12.0)\n",
            "Requirement already satisfied: setuptools in /usr/local/lib/python3.6/dist-packages (from protobuf>=3.11.2->ortools) (47.1.1)\n"
          ],
          "name": "stdout"
        }
      ]
    },
    {
      "cell_type": "markdown",
      "metadata": {
        "id": "JE65p4lXQSLy",
        "colab_type": "text"
      },
      "source": [
        "**Import the libraries:**"
      ]
    },
    {
      "cell_type": "code",
      "metadata": {
        "id": "5o_kBuFHQAH1",
        "colab_type": "code",
        "colab": {}
      },
      "source": [
        "from __future__ import print_function\n",
        "from ortools.algorithms import pywrapknapsack_solver"
      ],
      "execution_count": 0,
      "outputs": []
    },
    {
      "cell_type": "markdown",
      "metadata": {
        "id": "X-gZez92QoDG",
        "colab_type": "text"
      },
      "source": [
        "**Create the data:**"
      ]
    },
    {
      "cell_type": "code",
      "metadata": {
        "id": "cC3JHXjiQsqK",
        "colab_type": "code",
        "colab": {}
      },
      "source": [
        "# weights: A vector containing the weights of the items.\n",
        "# values: A vector containing the values of the items.\n",
        "# capacities: A vector with just one entry, the capacity of the knapsack.\n",
        "values = [\n",
        "    60,100,120\n",
        "]\n",
        "weights = [[\n",
        "    10,20,30\n",
        "]]\n",
        "capacities = [50]"
      ],
      "execution_count": 0,
      "outputs": []
    },
    {
      "cell_type": "markdown",
      "metadata": {
        "id": "v-vJjsQLQz5m",
        "colab_type": "text"
      },
      "source": [
        "**Declare the solver:**"
      ]
    },
    {
      "cell_type": "code",
      "metadata": {
        "id": "BZSJwjwcRQy8",
        "colab_type": "code",
        "colab": {}
      },
      "source": [
        "solver = pywrapknapsack_solver.KnapsackSolver(\n",
        "    pywrapknapsack_solver.KnapsackSolver.\n",
        "    KNAPSACK_MULTIDIMENSION_BRANCH_AND_BOUND_SOLVER, 'KnapsackExample')"
      ],
      "execution_count": 0,
      "outputs": []
    },
    {
      "cell_type": "markdown",
      "metadata": {
        "id": "mk3sD8NTPwon",
        "colab_type": "text"
      },
      "source": [
        "**Call the solver:**"
      ]
    },
    {
      "cell_type": "code",
      "metadata": {
        "id": "6sqCr19BSOyJ",
        "colab_type": "code",
        "colab": {}
      },
      "source": [
        "solver.Init(values, weights, capacities)\n",
        "computed_value = solver.Solve()\n",
        "\n",
        "# packed_items is a list of the optimal packed items.\n",
        "# packed_weights are the weights of the packed items.\n",
        "\n",
        "packed_items = []\n",
        "packed_weights = []\n",
        "total_weight = 0\n",
        "for i in range(len(values)):\n",
        "    if solver.BestSolutionContains(i):\n",
        "        packed_items.append(i)\n",
        "        packed_weights.append(weights[0][i])\n",
        "        total_weight += weights[0][i]"
      ],
      "execution_count": 0,
      "outputs": []
    },
    {
      "cell_type": "markdown",
      "metadata": {
        "id": "8DT2tSoMS2bn",
        "colab_type": "text"
      },
      "source": [
        "**Output of the program:**"
      ]
    },
    {
      "cell_type": "code",
      "metadata": {
        "id": "YFT3cjnTS4Pw",
        "colab_type": "code",
        "outputId": "e332f797-f9df-42f0-9277-aed6f44cf971",
        "colab": {
          "base_uri": "https://localhost:8080/",
          "height": 85
        }
      },
      "source": [
        "print('Total value =', computed_value)\n",
        "print('Total weight:', total_weight)\n",
        "print('Packed items:', packed_items)\n",
        "print('Packed_weights:', packed_weights)"
      ],
      "execution_count": 0,
      "outputs": [
        {
          "output_type": "stream",
          "text": [
            "Total value = 220\n",
            "Total weight: 50\n",
            "Packed items: [1, 2]\n",
            "Packed_weights: [20, 30]\n"
          ],
          "name": "stdout"
        }
      ]
    },
    {
      "cell_type": "markdown",
      "metadata": {
        "id": "eaHCRMN5iXvq",
        "colab_type": "text"
      },
      "source": [
        "#**Linear Programming:**\n",
        "\n",
        "<img src=\"https://drive.google.com/uc?id=1qAhld66Zs4kuxZOfxIhCjDSHs79Wb8hl\" class=\"center\" width=500 />"
      ]
    },
    {
      "cell_type": "markdown",
      "metadata": {
        "id": "Lc2WZIy3kqAn",
        "colab_type": "text"
      },
      "source": [
        "#**Modeling:** \n",
        "\n",
        "##**Abstract:**\n",
        "> + A company produces two products: $I$ and $II$. $x$ and $y$ are the number of\n",
        "units of products I and II, respectively, produced per day.\n",
        "\n",
        "|   | I | II |\n",
        "| ------------- | ------------- | ------------- |\n",
        "| Storage Space (𝑓𝑡<sup>2</sup>/𝑢𝑛𝑖𝑡)  | 4  | 5 |\n",
        "| Raw material (lb/unit)  | 5  | 3 |\n",
        "| Production rate (units/hour)  | 60  | 30 |\n",
        "| Selling price ($/unit)  | 13  | 11 |\n",
        "\n",
        "> The total amount of raw material available per day for both products is 15751b. The\n",
        "total storage space for all products is 1500 ft 2 , and a maximum of 7 hours per day can be used\n",
        "for production.\n",
        "\n",
        "##**Claim:** \n",
        ">+ Find $x_{1}$, $x_{2}$\n",
        ">   - that has maximun the total income\n",
        ">   - does not violate the constraints \n",
        "\n",
        "##**Object Function:**\n",
        "> $ \\text{maximize }Z = 13𝑥_{1}+11𝑥_{2} $\n",
        ">\n",
        "> $ \\text{subject to }                  $<br>\n",
        "> $ \\qquad \\qquad \\quad 4x_{1} + 5x_{2} \\le 1500 $ <br> \n",
        "> $ \\qquad \\qquad \\quad 5x_{1} + 3x_{2} \\le 1575 $ <br>\n",
        "> $ \\qquad \\qquad \\quad \\; \\; x_{1} + 2x_{2} \\le 420 $ <br>\n",
        "> $ \\qquad \\qquad \\qquad \\qquad \\; x_{1} \\ge 0 $ <br>\n",
        "> $ \\qquad \\qquad \\qquad \\qquad \\; x_{2} \\ge 0 $ <br>"
      ]
    },
    {
      "cell_type": "markdown",
      "metadata": {
        "id": "WDNyUimBcx-H",
        "colab_type": "text"
      },
      "source": [
        "##**Solve a linear programming problem using OR-Tools:**"
      ]
    },
    {
      "cell_type": "markdown",
      "metadata": {
        "id": "OuCuNp8XdU_O",
        "colab_type": "text"
      },
      "source": [
        "**Declare the solver:**"
      ]
    },
    {
      "cell_type": "code",
      "metadata": {
        "id": "Az52F6MudV_f",
        "colab_type": "code",
        "colab": {}
      },
      "source": [
        "from __future__ import print_function\n",
        "from ortools.linear_solver import pywraplp\n",
        "\n",
        "solver = pywraplp.Solver('SolverForLinOp',\n",
        "                          pywraplp.Solver.GLOP_LINEAR_PROGRAMMING)"
      ],
      "execution_count": 0,
      "outputs": []
    },
    {
      "cell_type": "markdown",
      "metadata": {
        "id": "2aY2W8DudBo9",
        "colab_type": "text"
      },
      "source": [
        "**Create the variables:**"
      ]
    },
    {
      "cell_type": "code",
      "metadata": {
        "id": "K2lrJwrTSzeM",
        "colab_type": "code",
        "colab": {}
      },
      "source": [
        "x1 = solver.IntVar(0.0, solver.infinity(), 'x1')\n",
        "x2 = solver.IntVar(0.0, solver.infinity(), 'x2')"
      ],
      "execution_count": 0,
      "outputs": []
    },
    {
      "cell_type": "markdown",
      "metadata": {
        "id": "MyHOOkcTfhS6",
        "colab_type": "text"
      },
      "source": [
        "**Define the constraints:**"
      ]
    },
    {
      "cell_type": "code",
      "metadata": {
        "id": "2hkOuWj6fgfm",
        "colab_type": "code",
        "colab": {}
      },
      "source": [
        "# Constraint 0: 4x + 5y <= 1500.\n",
        "constraint0 = solver.Constraint(-solver.infinity(), 1500)\n",
        "constraint0.SetCoefficient(x1, 4)\n",
        "constraint0.SetCoefficient(x2, 5)\n",
        "\n",
        "# Constraint 1: 5x + 3y <= 1575.\n",
        "constraint1 = solver.Constraint(-solver.infinity(), 1575)\n",
        "constraint1.SetCoefficient(x1, 5)\n",
        "constraint1.SetCoefficient(x2, 3)\n",
        "\n",
        "# Constraint 2: x + 2y <= 420.\n",
        "constraint2 = solver.Constraint(-solver.infinity(), 420)\n",
        "constraint2.SetCoefficient(x1, 1)\n",
        "constraint2.SetCoefficient(x2, 2)\n",
        "\n",
        "# Constraint 3: x >= 0.\n",
        "constraint3 = solver.Constraint(0, solver.infinity())\n",
        "constraint3.SetCoefficient(x1, 1)\n",
        "\n",
        "# Constraint 4: y >= 0.\n",
        "constraint4 = solver.Constraint(0, solver.infinity())\n",
        "constraint4.SetCoefficient(x2, 1)"
      ],
      "execution_count": 0,
      "outputs": []
    },
    {
      "cell_type": "markdown",
      "metadata": {
        "id": "UczePQYTgyvM",
        "colab_type": "text"
      },
      "source": [
        "**Define the objective function:**"
      ]
    },
    {
      "cell_type": "code",
      "metadata": {
        "id": "Emwwyp5Tg15t",
        "colab_type": "code",
        "colab": {}
      },
      "source": [
        "# Objective function: 13x + 11y.\n",
        "objective = solver.Objective()\n",
        "objective.SetCoefficient(x1, 13)\n",
        "objective.SetCoefficient(x2, 11)\n",
        "objective.SetMaximization()"
      ],
      "execution_count": 0,
      "outputs": []
    },
    {
      "cell_type": "markdown",
      "metadata": {
        "id": "6sNfQ12shY3h",
        "colab_type": "text"
      },
      "source": [
        "**Call the solver:**"
      ]
    },
    {
      "cell_type": "code",
      "metadata": {
        "id": "Kjvus_euhZ4J",
        "colab_type": "code",
        "outputId": "63000294-0400-4a8c-e317-dd8d7cb2a256",
        "colab": {
          "base_uri": "https://localhost:8080/",
          "height": 34
        }
      },
      "source": [
        "solver.Solve()"
      ],
      "execution_count": 0,
      "outputs": [
        {
          "output_type": "execute_result",
          "data": {
            "text/plain": [
              "0"
            ]
          },
          "metadata": {
            "tags": []
          },
          "execution_count": 27
        }
      ]
    },
    {
      "cell_type": "markdown",
      "metadata": {
        "id": "Bk9E3rtOhmFT",
        "colab_type": "text"
      },
      "source": [
        "**Display the solution:**"
      ]
    },
    {
      "cell_type": "code",
      "metadata": {
        "id": "0rFBH3QWhmux",
        "colab_type": "code",
        "outputId": "1d30559a-a87b-4d1b-a170-0445808646e3",
        "colab": {
          "base_uri": "https://localhost:8080/",
          "height": 121
        }
      },
      "source": [
        "opt_solution = 13 * x1.solution_value() + 11 * x2.solution_value()\n",
        "print('Number of variables =', solver.NumVariables())\n",
        "print('Number of constraints =', solver.NumConstraints())\n",
        "# The value of each variable in the solution.\n",
        "print('Solution:')\n",
        "print('x = ', int(x1.solution_value()))\n",
        "print('y = ', int(x2.solution_value()))\n",
        "# The objective value of the solution.\n",
        "print('Optimal objective value =', opt_solution)"
      ],
      "execution_count": 0,
      "outputs": [
        {
          "output_type": "stream",
          "text": [
            "Number of variables = 4\n",
            "Number of constraints = 6\n",
            "Solution:\n",
            "x =  270\n",
            "y =  75\n",
            "Optimal objective value = 4335.0\n"
          ],
          "name": "stdout"
        }
      ]
    },
    {
      "cell_type": "code",
      "metadata": {
        "id": "TJQ0NWHABNem",
        "colab_type": "code",
        "colab": {}
      },
      "source": [
        ""
      ],
      "execution_count": 0,
      "outputs": []
    }
  ]
}